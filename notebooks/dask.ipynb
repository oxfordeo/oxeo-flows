{
 "cells": [
  {
   "cell_type": "markdown",
   "id": "e618eab8",
   "metadata": {
    "tags": []
   },
   "source": [
    "## Useful links\n",
    "https://medium.com/rapids-ai/bursting-data-science-workloads-to-gpus-on-google-cloud-platform-with-dask-cloud-provider-685be1eff204\n",
    "\n",
    "https://cloudprovider.dask.org/en/latest/gcp.html\n",
    "\n",
    "https://cloudprovider.dask.org/en/latest/packer.html"
   ]
  },
  {
   "cell_type": "code",
   "execution_count": null,
   "id": "079bbcf0",
   "metadata": {},
   "outputs": [],
   "source": [
    "import os\n",
    "import json\n",
    "\n",
    "from dask_cloudprovider.gcp import GCPCluster\n",
    "from dask.distributed import Client\n",
    "import dask.config"
   ]
  },
  {
   "cell_type": "markdown",
   "id": "c75c35fb-ff2a-4f6a-ab20-8527f5b5260d",
   "metadata": {},
   "source": [
    "## Create cluster and wait"
   ]
  },
  {
   "cell_type": "code",
   "execution_count": null,
   "id": "1d5a4f95",
   "metadata": {
    "tags": []
   },
   "outputs": [],
   "source": [
    "os.environ[\"GOOGLE_APPLICATION_CREDENTIALS\"] = \"../../oxeo-main-prefect.json\"\n",
    "\n",
    "dask.config.set(\n",
    "    **{\n",
    "        \"cloudprovider.gcp.projectid\": \"oxeo-main\",\n",
    "        \"public_ingress\": True,\n",
    "    }\n",
    ")"
   ]
  },
  {
   "cell_type": "code",
   "execution_count": null,
   "id": "7be3d05f",
   "metadata": {},
   "outputs": [],
   "source": [
    "with GCPCluster(\n",
    "    zone=\"europe-west4-a\",\n",
    "    machine_type=\"n1-highmem-2\",\n",
    "    n_workers=1,\n",
    "    docker_image=\"eu.gcr.io/oxeo-main/oxeo-flows-dask:latest\",\n",
    ") as cluster:\n",
    "    print(cluster)\n",
    "    input(\"waiting\")\n",
    "    print(\"done\")"
   ]
  },
  {
   "cell_type": "markdown",
   "id": "44483550-2e04-4012-8786-db03ae6219aa",
   "metadata": {},
   "source": [
    "## Create packer config"
   ]
  },
  {
   "cell_type": "code",
   "execution_count": null,
   "id": "66db1ab1",
   "metadata": {},
   "outputs": [],
   "source": [
    "# Init\n",
    "cloud_init = GCPCluster.get_cloud_init(\n",
    "    zone=\"europe-west4-a\",\n",
    "    machine_type=\"n1-highmem-2\",\n",
    "    n_workers=1,\n",
    "    docker_image=\"eu.gcr.io/oxeo-main/oxeo-flows-dask:latest\",\n",
    ")\n",
    "# print(cloud_init_config)"
   ]
  },
  {
   "cell_type": "code",
   "execution_count": null,
   "id": "9ab07fde-0cd3-4018-9fc6-e7e6830fc76d",
   "metadata": {},
   "outputs": [],
   "source": [
    "cloud_init = \"\"\"\n",
    "#cloud-config\n",
    "# Bootstrap\n",
    "packages:\n",
    "  - apt-transport-https\n",
    "  - ca-certificates\n",
    "  - curl\n",
    "  - gnupg-agent\n",
    "  - software-properties-common\n",
    "  - ubuntu-drivers-common\n",
    "\n",
    "# Enable ipv4 forwarding, required on CIS hardened machines\n",
    "write_files:\n",
    "  - path: /etc/sysctl.d/enabled_ipv4_forwarding.conf\n",
    "    content: |\n",
    "      net.ipv4.conf.all.forwarding=1\n",
    "\n",
    "# create the docker group\n",
    "groups:\n",
    "  - docker\n",
    "\n",
    "# Add default auto created user to docker group\n",
    "system_info:\n",
    "  default_user:\n",
    "    groups: [docker]\n",
    "\n",
    "runcmd:\n",
    "  # Install Docker\n",
    "  - curl -fsSL https://download.docker.com/linux/ubuntu/gpg | apt-key add -\n",
    "  - add-apt-repository \"deb [arch=amd64] https://download.docker.com/linux/ubuntu $(lsb_release -cs) stable\"\n",
    "  - apt-get update -y\n",
    "  - apt-get install -y docker-ce docker-ce-cli containerd.io\n",
    "  - systemctl start docker\n",
    "  - systemctl enable docker\n",
    "  - gcloud auth configure-docker\n",
    "  \n",
    "  # Run container\n",
    "  - 'docker run --net=host   eu.gcr.io/oxeo-main/oxeo-flows-dask:latest dask-scheduler --version'\n",
    "\"\"\""
   ]
  },
  {
   "cell_type": "code",
   "execution_count": null,
   "id": "a1e962e3-baab-483a-90b7-8c1f98c302f9",
   "metadata": {},
   "outputs": [],
   "source": [
    "packer_config = {\n",
    "    \"builders\": [\n",
    "        {\n",
    "            \"type\": \"googlecompute\",\n",
    "            \"project_id\": \"oxeo-main\",\n",
    "            \"source_image\": \"ubuntu-2004-focal-v20211102\",\n",
    "            \"ssh_username\": \"packer\",\n",
    "            \"zone\": \"europe-west4-a\",\n",
    "            \"on_host_maintenance\": \"TERMINATE\",\n",
    "            \"disk_size\": \"30\",\n",
    "            \"machine_type\": \"n1-highmem-2\",\n",
    "            \"metadata\": {\"user-data\": cloud_init},\n",
    "        }\n",
    "    ],\n",
    "    \"provisioners\": [\n",
    "        {\n",
    "            \"type\": \"shell\",\n",
    "            \"inline\": [\n",
    "                \"echo 'Waiting for cloud-init'; while [ ! -f /var/lib/cloud/instance/boot-finished ]; do sleep 1; done; echo 'Done'\"\n",
    "            ],\n",
    "        }\n",
    "    ],\n",
    "}"
   ]
  },
  {
   "cell_type": "code",
   "execution_count": null,
   "id": "e36332fb-42f9-410c-b351-5228218590c5",
   "metadata": {},
   "outputs": [],
   "source": [
    "with open(\"../packer.json\", \"w\") as fh:\n",
    "    fh.write(json.dumps(packer_config))"
   ]
  }
 ],
 "metadata": {
  "kernelspec": {
   "display_name": "pr",
   "language": "python",
   "name": "pr"
  },
  "language_info": {
   "codemirror_mode": {
    "name": "ipython",
    "version": 3
   },
   "file_extension": ".py",
   "mimetype": "text/x-python",
   "name": "python",
   "nbconvert_exporter": "python",
   "pygments_lexer": "ipython3",
   "version": "3.9.7"
  }
 },
 "nbformat": 4,
 "nbformat_minor": 5
}
